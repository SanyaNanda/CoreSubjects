{
 "cells": [
  {
   "cell_type": "markdown",
   "metadata": {},
   "source": [
    "# Basic Terminologies\n",
    "### Arrival Time: Time when the process enters the ready queue \n",
    "### Completion Time: Time when the process finishes execution\n",
    "### Waiting Time: Amount of time the process needs to wait before getting the CPU\n",
    "### Burst Time: Amount of time the process requires to run\n",
    "### Turn Around Time: Total time the process spends in between entering and leaving the CPU\n",
    "#### TT = BT  + WT or TT = CT - AT"
   ]
  },
  {
   "cell_type": "code",
   "execution_count": 5,
   "metadata": {},
   "outputs": [],
   "source": [
    "import numpy as np"
   ]
  },
  {
   "cell_type": "markdown",
   "metadata": {},
   "source": [
    "# FCFS: First Come First Serve"
   ]
  },
  {
   "cell_type": "code",
   "execution_count": 53,
   "metadata": {},
   "outputs": [],
   "source": [
    "# input given: process name, arrival time, burst time\n",
    "def fcfs(process, arrival_time, burst_time):\n",
    "    n=len(arrival_time)\n",
    "\n",
    "    if len(set(arrival_time))==1:\n",
    "        # if all the process arrive at the same time, pass\n",
    "        pass\n",
    "    else:\n",
    "        # if process arrive at different times, then the processes are sorted by their arrival time\n",
    "        t = zip(arrival_time, burst_time, process)\n",
    "        t = sorted(t)\n",
    "\n",
    "        arrival_time=[i for i,j,k in t]\n",
    "        burst_time=[j for i,j,k in t]\n",
    "        process=[k for i,j,k in t]\n",
    "\n",
    "    # initializing the lists\n",
    "    waiting_time=np.zeros(n)\n",
    "    completion_time=np.zeros(n)\n",
    "    turnaround_time=np.zeros(n)\n",
    "\n",
    "    # Processes that arrived first, are served by the CPU first \n",
    "    for i in range(n):\n",
    "        if i==0:\n",
    "            completion_time[i] = arrival_time[i] + burst_time[i]\n",
    "            waiting_time[i]=0\n",
    "            turnaround_time[i] = burst_time[i]+ waiting_time[i]\n",
    "        else:\n",
    "            completion_time[i]= completion_time[i-1] + burst_time[i]\n",
    "            waiting_time[i]=waiting_time[i-1] + completion_time[i-1]\n",
    "            turnaround_time[i] = burst_time[i]+ waiting_time[i]\n",
    "\n",
    "    print(\"Process   Arrival Time     Burst Time    Completion Time    Waiting Time    Turn Around Time\")\n",
    "    for i in range(n):\n",
    "        print(\"{}\\t\\t{}\\t\\t{}\\t\\t{}\\t\\t{}\\t\\t{} \".format(process[i], arrival_time[i], burst_time[i], completion_time[i], waiting_time[i], turnaround_time[i]))\n",
    "    print(\"Average Waiting time: {}\".format(sum(waiting_time)/n))\n",
    "    print(\"Average Turn Around time: {}\".format(sum(turnaround_time)/n))"
   ]
  },
  {
   "cell_type": "code",
   "execution_count": 54,
   "metadata": {},
   "outputs": [
    {
     "name": "stdout",
     "output_type": "stream",
     "text": [
      "Process   Arrival Time     Burst Time    Completion Time    Waiting Time    Turn Around Time\n",
      "P1\t\t1\t\t40\t\t41.0\t\t0.0\t\t40.0 \n",
      "P2\t\t2\t\t10\t\t51.0\t\t41.0\t\t51.0 \n",
      "P3\t\t4\t\t8\t\t59.0\t\t92.0\t\t100.0 \n",
      "P4\t\t6\t\t34\t\t93.0\t\t151.0\t\t185.0 \n",
      "Average Waiting time: 71.0\n",
      "Average Turn Around time: 94.0\n"
     ]
    }
   ],
   "source": [
    "# when process arrive at different times and the input is given in order of arrival\n",
    "process=['P1','P2','P3','P4']\n",
    "arrival_time=[1,2,4,6]\n",
    "burst_time=[40,10,8,34]\n",
    "fcfs(process, arrival_time, burst_time)"
   ]
  },
  {
   "cell_type": "code",
   "execution_count": 55,
   "metadata": {
    "scrolled": true
   },
   "outputs": [
    {
     "name": "stdout",
     "output_type": "stream",
     "text": [
      "Process   Arrival Time     Burst Time    Completion Time    Waiting Time    Turn Around Time\n",
      "P2\t\t1\t\t10\t\t11.0\t\t0.0\t\t10.0 \n",
      "P1\t\t3\t\t40\t\t51.0\t\t11.0\t\t51.0 \n",
      "P3\t\t4\t\t8\t\t59.0\t\t62.0\t\t70.0 \n",
      "P4\t\t6\t\t34\t\t93.0\t\t121.0\t\t155.0 \n",
      "Average Waiting time: 48.5\n",
      "Average Turn Around time: 71.5\n"
     ]
    }
   ],
   "source": [
    "# when process arrive at different times and the input is given in unsorted time of arrival\n",
    "process=['P1','P2','P3','P4']\n",
    "arrival_time=[3,1,4,6]\n",
    "burst_time=[40,10,8,34]\n",
    "fcfs(process, arrival_time, burst_time)"
   ]
  },
  {
   "cell_type": "code",
   "execution_count": 56,
   "metadata": {},
   "outputs": [
    {
     "name": "stdout",
     "output_type": "stream",
     "text": [
      "Process   Arrival Time     Burst Time    Completion Time    Waiting Time    Turn Around Time\n",
      "P1\t\t1\t\t40\t\t41.0\t\t0.0\t\t40.0 \n",
      "P2\t\t1\t\t10\t\t51.0\t\t41.0\t\t51.0 \n",
      "P3\t\t1\t\t8\t\t59.0\t\t92.0\t\t100.0 \n",
      "P4\t\t1\t\t34\t\t93.0\t\t151.0\t\t185.0 \n",
      "Average Waiting time: 71.0\n",
      "Average Turn Around time: 94.0\n"
     ]
    }
   ],
   "source": [
    "# when all the processes arrive at the same time\n",
    "process=['P1','P2','P3','P4']\n",
    "arrival_time=[1,1,1,1]\n",
    "burst_time=[40,10,8,34]\n",
    "fcfs(process, arrival_time, burst_time)"
   ]
  },
  {
   "cell_type": "code",
   "execution_count": 57,
   "metadata": {},
   "outputs": [
    {
     "name": "stdout",
     "output_type": "stream",
     "text": [
      "Process   Arrival Time     Burst Time    Completion Time    Waiting Time    Turn Around Time\n",
      "P1\t\t0\t\t40\t\t40.0\t\t0.0\t\t40.0 \n",
      "P2\t\t0\t\t10\t\t50.0\t\t40.0\t\t50.0 \n",
      "P3\t\t0\t\t8\t\t58.0\t\t90.0\t\t98.0 \n",
      "P4\t\t0\t\t34\t\t92.0\t\t148.0\t\t182.0 \n",
      "Average Waiting time: 69.5\n",
      "Average Turn Around time: 92.5\n"
     ]
    }
   ],
   "source": [
    "# when all the processes arrive at  time zero\n",
    "process=['P1','P2','P3','P4']\n",
    "arrival_time=[0,0,0,0]\n",
    "burst_time=[40,10,8,34]\n",
    "fcfs(process, arrival_time, burst_time)"
   ]
  },
  {
   "cell_type": "markdown",
   "metadata": {},
   "source": [
    "## SJF: Shortest Job First"
   ]
  },
  {
   "cell_type": "code",
   "execution_count": 20,
   "metadata": {},
   "outputs": [],
   "source": [
    "def sort_by_arrival(process, arrival_time, burst_time, completion_time, waiting_time, turnaround_time):\n",
    "    t = zip(process, arrival_time, burst_time, completion_time, waiting_time, turnaround_time)\n",
    "    t = sorted(t, key=lambda t: t[1])\n",
    "    process=[i for i,j,k,l,m,n in t]\n",
    "    arrival_time=[j for i,j,k,l,m,n in t]\n",
    "    burst_time=[k for i,j,k,l,m,n in t]\n",
    "    completion_time=[l for i,j,k,l,m,n in t]\n",
    "    waiting_time=[m for i,j,k,l,m,n in t]\n",
    "    turnaround_time=[n for i,j,k,l,m,n in t]\n",
    "    return process, arrival_time, burst_time, completion_time, waiting_time, turnaround_time\n",
    "    "
   ]
  },
  {
   "cell_type": "code",
   "execution_count": 21,
   "metadata": {},
   "outputs": [],
   "source": [
    "def sort_by_burst(process, arrival_time, burst_time, completion_time, waiting_time, turnaround_time, c=0, d=4):\n",
    "    t = list(zip(process, arrival_time, burst_time, completion_time, waiting_time, turnaround_time))\n",
    "    t[c:d] = sorted(t[c:d], key=lambda t: t[2])\n",
    "    process=[i for i,j,k,l,m,n in t]\n",
    "    arrival_time=[j for i,j,k,l,m,n in t]\n",
    "    burst_time=[k for i,j,k,l,m,n in t]\n",
    "    completion_time=[l for i,j,k,l,m,n in t]\n",
    "    waiting_time=[m for i,j,k,l,m,n in t]\n",
    "    turnaround_time=[n for i,j,k,l,m,n in t]\n",
    "    return process, arrival_time, burst_time, completion_time, waiting_time, turnaround_time\n",
    "    "
   ]
  },
  {
   "cell_type": "code",
   "execution_count": 22,
   "metadata": {},
   "outputs": [],
   "source": [
    "def sort_by_completion(process, arrival_time, burst_time, completion_time, waiting_time, turnaround_time):\n",
    "    t = zip(process, arrival_time, burst_time, completion_time, waiting_time, turnaround_time)\n",
    "    t = sorted(t, key=lambda t: t[3])\n",
    "    process=[i for i,j,k,l,m,n in t]\n",
    "    arrival_time=[j for i,j,k,l,m,n in t]\n",
    "    burst_time=[k for i,j,k,l,m,n in t]\n",
    "    completion_time=[l for i,j,k,l,m,n in t]\n",
    "    waiting_time=[m for i,j,k,l,m,n in t]\n",
    "    turnaround_time=[n for i,j,k,l,m,n in t]\n",
    "    return process, arrival_time, burst_time, completion_time, waiting_time, turnaround_time\n",
    "    "
   ]
  },
  {
   "cell_type": "code",
   "execution_count": 30,
   "metadata": {},
   "outputs": [],
   "source": [
    "# input given: process name, arrival time, burst time\n",
    "def sjf(process, arrival_time, burst_time):\n",
    "    n=len(arrival_time)\n",
    "    waiting_time=np.zeros(n)\n",
    "    completion_time=np.zeros(n)\n",
    "    turnaround_time=np.zeros(n)\n",
    "    \n",
    "    if len(set(arrival_time))==1:\n",
    "        # when arrival time of all the processes is the same, processes are sorted by the burst time and executed\n",
    "        process, arrival_time, burst_time, completion_time, waiting_time, turnaround_time = sort_by_burst(process, arrival_time, burst_time, completion_time, waiting_time, turnaround_time,0,n)\n",
    "    else:\n",
    "        # if process arrive at different times, then the processes are sorted by their arrival time\n",
    "        process, arrival_time, burst_time, completion_time, waiting_time, turnaround_time = sort_by_arrival(process, arrival_time, burst_time, completion_time, waiting_time, turnaround_time)\n",
    " \n",
    "    completion_time[0] = arrival_time[0] + burst_time[0]\n",
    "    waiting_time[0]=0\n",
    "    turnaround_time[0] = burst_time[0]+ waiting_time[0]\n",
    "    \n",
    "    for i in range(1,n):\n",
    "        count=0\n",
    "        for j in range(i,n):\n",
    "            while(completion_time[i-1]>=arrival_time[j]):\n",
    "                count=count+1\n",
    "                break\n",
    "        process, arrival_time, burst_time, completion_time, waiting_time, turnaround_time = sort_by_burst(process, arrival_time, burst_time, completion_time, waiting_time, turnaround_time,i,i+count)\n",
    "        completion_time[i]= completion_time[i-1] + burst_time[i]\n",
    "        waiting_time[i]=completion_time[i-1]-arrival_time[i]\n",
    "        if waiting_time[i]<0:\n",
    "            completion_time[i]=arrival_time[i]+burst_time[i]\n",
    "            waiting_time[i]=0\n",
    "        turnaround_time[i] = burst_time[i]+ waiting_time[i]\n",
    "\n",
    "\n",
    "    print(\"Process   Arrival Time     Burst Time    Completion Time    Waiting Time    Turn Around Time\")\n",
    "    for i in range(n):\n",
    "        print(\"{}\\t\\t{}\\t\\t{}\\t\\t{}\\t\\t{}\\t\\t{} \".format(process[i], arrival_time[i], burst_time[i], completion_time[i], waiting_time[i], turnaround_time[i]))\n",
    "    print(\"Average Waiting time: {}\".format(sum(waiting_time)/n))\n",
    "    print(\"Average Turn Around time: {}\".format(sum(turnaround_time)/n))"
   ]
  },
  {
   "cell_type": "code",
   "execution_count": 26,
   "metadata": {},
   "outputs": [
    {
     "name": "stdout",
     "output_type": "stream",
     "text": [
      "Process   Arrival Time     Burst Time    Completion Time    Waiting Time    Turn Around Time\n",
      "P2\t\t0\t\t4\t\t4\t\t0\t\t4 \n",
      "P3\t\t4\t\t2\t\t6\t\t0\t\t2 \n",
      "P1\t\t2\t\t3\t\t9\t\t4\t\t7 \n",
      "P4\t\t5\t\t4\t\t13\t\t4\t\t8 \n",
      "Average Waiting time: 2.0\n",
      "Average Turn Around time: 5.25\n"
     ]
    }
   ],
   "source": [
    "# processes arrive at different times, arrival time not reported in chronological order\n",
    "process=['P1','P2','P3','P4']\n",
    "arrival_time=[2,0,4,5]\n",
    "burst_time=[3, 4, 2, 4]\n",
    "sjf(process, arrival_time, burst_time)"
   ]
  },
  {
   "cell_type": "code",
   "execution_count": 28,
   "metadata": {},
   "outputs": [
    {
     "name": "stdout",
     "output_type": "stream",
     "text": [
      "Process   Arrival Time     Burst Time    Completion Time    Waiting Time    Turn Around Time\n",
      "P3\t\t0\t\t2\t\t2\t\t0\t\t2 \n",
      "P1\t\t0\t\t3\t\t5\t\t2\t\t5 \n",
      "P2\t\t0\t\t4\t\t9\t\t5\t\t9 \n",
      "P4\t\t0\t\t4\t\t13\t\t9\t\t13 \n",
      "Average Waiting time: 4.0\n",
      "Average Turn Around time: 7.25\n"
     ]
    }
   ],
   "source": [
    "# processes arrive at the same time\n",
    "process=['P1','P2','P3','P4']\n",
    "arrival_time=[0,0,0,0]\n",
    "burst_time=[3, 4, 2, 4]\n",
    "sjf(process, arrival_time, burst_time)"
   ]
  },
  {
   "cell_type": "code",
   "execution_count": 27,
   "metadata": {
    "scrolled": true
   },
   "outputs": [
    {
     "name": "stdout",
     "output_type": "stream",
     "text": [
      "Process   Arrival Time     Burst Time    Completion Time    Waiting Time    Turn Around Time\n",
      "P1\t\t1\t\t3\t\t4\t\t0\t\t3 \n",
      "P3\t\t3\t\t2\t\t6\t\t1\t\t3 \n",
      "P2\t\t2\t\t4\t\t10\t\t4\t\t8 \n",
      "P4\t\t4\t\t4\t\t14\t\t6\t\t10 \n",
      "Average Waiting time: 2.75\n",
      "Average Turn Around time: 6.0\n"
     ]
    }
   ],
   "source": [
    "# processes arrive at different times\n",
    "process=['P1','P2','P3','P4']\n",
    "arrival_time=[1,2,3,4]\n",
    "burst_time=[3, 4, 2, 4]\n",
    "sjf(process, arrival_time, burst_time)"
   ]
  },
  {
   "cell_type": "code",
   "execution_count": 31,
   "metadata": {},
   "outputs": [
    {
     "name": "stdout",
     "output_type": "stream",
     "text": [
      "Process   Arrival Time     Burst Time    Completion Time    Waiting Time    Turn Around Time\n",
      "P1\t\t2\t\t2\t\t4\t\t0\t\t2 \n",
      "P2\t\t8\t\t5\t\t13\t\t0\t\t5 \n",
      "P3\t\t10\t\t4\t\t17\t\t3\t\t7 \n",
      "P4\t\t11\t\t9\t\t26\t\t6\t\t15 \n",
      "P6\t\t18\t\t5\t\t31\t\t8\t\t13 \n",
      "P5\t\t14\t\t10\t\t41\t\t17\t\t27 \n",
      "Average Waiting time: 5.666666666666667\n",
      "Average Turn Around time: 11.5\n"
     ]
    }
   ],
   "source": [
    "process=['P1','P2','P3','P4','P5','P6']\n",
    "arrival_time=[2,8,10,11,14,18]\n",
    "burst_time=[2,5,4,9,10,5]\n",
    "sjf(process, arrival_time, burst_time)"
   ]
  },
  {
   "cell_type": "code",
   "execution_count": 19,
   "metadata": {},
   "outputs": [
    {
     "name": "stdout",
     "output_type": "stream",
     "text": [
      "[(3, 0), (2, 0), (5, 1), (6, 1)]\n"
     ]
    }
   ],
   "source": [
    "# rough work\n",
    "d=[3,2, 6,5]\n",
    "s=[0,0,1,1]\n",
    "x=list((zip(d,s)))\n",
    "x[2:4]=sorted(x[2:4],key=lambda t: t[0])\n",
    "print(x)\n",
    "d=[i for i,j in x]\n",
    "s=[i for i,j in x]"
   ]
  },
  {
   "cell_type": "code",
   "execution_count": 13,
   "metadata": {},
   "outputs": [
    {
     "data": {
      "text/plain": [
       "array([4, 1, 7, 8, 3, 0, 5, 2, 6, 9])"
      ]
     },
     "execution_count": 13,
     "metadata": {},
     "output_type": "execute_result"
    }
   ],
   "source": [
    "# rough work\n",
    "a = np.array([4, 8, 1, 7, 3, 0, 5, 2, 6, 9])\n",
    "a[1:4].sort()\n",
    "a"
   ]
  },
  {
   "cell_type": "code",
   "execution_count": 17,
   "metadata": {},
   "outputs": [],
   "source": [
    "#rough work\n",
    "a[0:3] = sorted(a[0:3])\n",
    "a"
   ]
  },
  {
   "cell_type": "markdown",
   "metadata": {},
   "source": [
    "## SRTF: Shortest Remaining Time First"
   ]
  },
  {
   "cell_type": "code",
   "execution_count": 1,
   "metadata": {},
   "outputs": [],
   "source": [
    "def sort_by_rem(process, arrival_time, burst_time, completion_time, waiting_time, turnaround_time, remaining_time):\n",
    "    t = zip(process, arrival_time, burst_time, completion_time, waiting_time, turnaround_time, remaining_time)\n",
    "    t = sorted(t, key=lambda t: t[-1])\n",
    "    process=[i for i,j,k,l,m,n,o in t]\n",
    "    arrival_time=[j for i,j,k,l,m,n,o in t]\n",
    "    burst_time=[k for i,j,k,l,m,n,o in t]\n",
    "    completion_time=[l for i,j,k,l,m,n,o in t]\n",
    "    waiting_time=[m for i,j,k,l,m,n,o in t]\n",
    "    turnaround_time=[n for i,j,k,l,m,n,o in t]\n",
    "    remaining_time=[o for i,j,k,l,m,n,o in t]\n",
    "    return process, arrival_time, burst_time, completion_time, waiting_time, turnaround_time, remaining_time"
   ]
  },
  {
   "cell_type": "code",
   "execution_count": 2,
   "metadata": {},
   "outputs": [],
   "source": [
    "def sort_by_arri(process, arrival_time, burst_time, completion_time, waiting_time, turnaround_time, remaining_time):\n",
    "    t = zip(process, arrival_time, burst_time, completion_time, waiting_time, turnaround_time, remaining_time)\n",
    "    t = sorted(t, key=lambda t: t[1])\n",
    "    process=[i for i,j,k,l,m,n,o in t]\n",
    "    arrival_time=[j for i,j,k,l,m,n,o in t]\n",
    "    burst_time=[k for i,j,k,l,m,n,o in t]\n",
    "    completion_time=[l for i,j,k,l,m,n,o in t]\n",
    "    waiting_time=[m for i,j,k,l,m,n,o in t]\n",
    "    turnaround_time=[n for i,j,k,l,m,n,o in t]\n",
    "    remaining_time=[o for i,j,k,l,m,n,o in t]\n",
    "    return process, arrival_time, burst_time, completion_time, waiting_time, turnaround_time, remaining_time"
   ]
  },
  {
   "cell_type": "code",
   "execution_count": 3,
   "metadata": {},
   "outputs": [],
   "source": [
    "def sort_by_bur(process, arrival_time, burst_time, completion_time, waiting_time, turnaround_time, remaining_time):\n",
    "    t = zip(process, arrival_time, burst_time, completion_time, waiting_time, turnaround_time, remaining_time)\n",
    "    t = sorted(t, key=lambda t: t[2])\n",
    "    process=[i for i,j,k,l,m,n,o in t]\n",
    "    arrival_time=[j for i,j,k,l,m,n,o in t]\n",
    "    burst_time=[k for i,j,k,l,m,n,o in t]\n",
    "    completion_time=[l for i,j,k,l,m,n,o in t]\n",
    "    waiting_time=[m for i,j,k,l,m,n,o in t]\n",
    "    turnaround_time=[n for i,j,k,l,m,n,o in t]\n",
    "    remaining_time=[o for i,j,k,l,m,n,o in t]\n",
    "    return process, arrival_time, burst_time, completion_time, waiting_time, turnaround_time, remaining_time"
   ]
  },
  {
   "cell_type": "code",
   "execution_count": 11,
   "metadata": {},
   "outputs": [
    {
     "name": "stdout",
     "output_type": "stream",
     "text": [
      "[-1, 2, 4, 4]\n",
      "Process   Arrival Time     Burst Time    Completion Time    Waiting Time    Turn Around Time\n",
      "P1\t\t1\t\t2\t\t0.0\t\t0.0\t\t0.0 \n",
      "P3\t\t3\t\t2\t\t5\t\t0\t\t2 \n",
      "P2\t\t2\t\t4\t\t9\t\t3\t\t7 \n",
      "P4\t\t4\t\t4\t\t13\t\t5\t\t9 \n",
      "Average Waiting time: 2.0\n",
      "Average Turn Around time: 4.5\n"
     ]
    }
   ],
   "source": [
    "# input given: process name, arrival time, burst time\n",
    "# processes arrive at different times\n",
    "process=['P1','P2','P3','P4']\n",
    "arrival_time=[1,2,3,4]\n",
    "burst_time=[2, 4, 2, 4]\n",
    "\n",
    "def srtf(process, arrival_time, burst_time):\n",
    "    n=len(arrival_time)\n",
    "    waiting_time=np.zeros(n)\n",
    "    completion_time=np.zeros(n)\n",
    "    turnaround_time=np.zeros(n)\n",
    "    remaining_time=np.zeros(n)\n",
    "    \n",
    "    if len(set(arrival_time))==1:\n",
    "        # when arrival time of all the processes is the same, processes are sorted by the burst time and executed\n",
    "        process, arrival_time, burst_time, completion_time, waiting_time, turnaround_time, remaining_time = sort_by_bur(process, arrival_time, burst_time, completion_time, waiting_time, turnaround_time,remaining_time)\n",
    "    else:\n",
    "        # if process arrive at different times, then the processes are sorted by their arrival time\n",
    "        process, arrival_time, burst_time, completion_time, waiting_time, turnaround_time, remaining_time = sort_by_arri(process, arrival_time, burst_time, completion_time, waiting_time, turnaround_time, remaining_time)\n",
    " \n",
    "    '''completion_time[0] = arrival_time[0] + burst_time[0]\n",
    "    waiting_time[0]=0\n",
    "    turnaround_time[0] = burst_time[0]+ waiting_time[0]'''\n",
    "    \n",
    "    current_process=0\n",
    "    for i in range(1,n):\n",
    "        remaining_time[current_process]=burst_time[current_process] - (arrival_time[i]-arrival_time[current_process])\n",
    "        if remaining_time[current_process]<=burst_time[i]:\n",
    "            remaining_time[i]=burst_time[i]\n",
    "        elif remaining_time[current_process]==0:\n",
    "            completion_time[current_process] = arrival_time[i]-arrival_time[current_process]\n",
    "            waiting_time[current_process]=completion_time[current_process]-burst_time[current_process]\n",
    "            turnaround_time[0] = burst_time[0]+ waiting_time[0]\n",
    "            current_process=i\n",
    "        else:\n",
    "            current_process=i\n",
    "    \n",
    "    for i in range(1,n):\n",
    "        process, arrival_time, burst_time, completion_time, waiting_time, turnaround_time, remaining_time = sort_by_rem(process, arrival_time, burst_time, completion_time, waiting_time, turnaround_time,remaining_time)\n",
    "        if remaining_time[i]!=0:\n",
    "            completion_time[i]= completion_time[i-1] + remaining_time[i]\n",
    "            waiting_time[i]=completion_time[i-1]-arrival_time[i]\n",
    "            if waiting_time[i]<0:\n",
    "                completion_time[i]=arrival_time[i]+remaining_time[i]\n",
    "                waiting_time[i]=0\n",
    "            turnaround_time[i] = remaining_time[i]+ waiting_time[i]\n",
    "    \n",
    "    \n",
    "        \n",
    "    print(remaining_time)\n",
    "    print(\"Process   Arrival Time     Burst Time    Completion Time    Waiting Time    Turn Around Time\")\n",
    "    for i in range(n):\n",
    "        print(\"{}\\t\\t{}\\t\\t{}\\t\\t{}\\t\\t{}\\t\\t{} \".format(process[i], arrival_time[i], burst_time[i], completion_time[i], waiting_time[i], turnaround_time[i]))\n",
    "    print(\"Average Waiting time: {}\".format(sum(waiting_time)/n))\n",
    "    print(\"Average Turn Around time: {}\".format(sum(turnaround_time)/n))\n",
    "    \n",
    "srtf(process, arrival_time, burst_time)"
   ]
  },
  {
   "cell_type": "code",
   "execution_count": null,
   "metadata": {},
   "outputs": [],
   "source": []
  }
 ],
 "metadata": {
  "kernelspec": {
   "display_name": "Python 3",
   "language": "python",
   "name": "python3"
  },
  "language_info": {
   "codemirror_mode": {
    "name": "ipython",
    "version": 3
   },
   "file_extension": ".py",
   "mimetype": "text/x-python",
   "name": "python",
   "nbconvert_exporter": "python",
   "pygments_lexer": "ipython3",
   "version": "3.7.3"
  }
 },
 "nbformat": 4,
 "nbformat_minor": 2
}
